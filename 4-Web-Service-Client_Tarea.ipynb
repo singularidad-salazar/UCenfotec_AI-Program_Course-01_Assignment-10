{
 "cells": [
  {
   "cell_type": "markdown",
   "metadata": {},
   "source": [
    "## Web Service Client\n",
    "\n",
    "En este notebook vamos a consumir un servicio de machine learning. El servicio debe ser levantando con el script server.py por separado."
   ]
  },
  {
   "cell_type": "markdown",
   "metadata": {},
   "source": [
    "### EJERCICIO 1: \n",
    "\n",
    "Modifique el server.py para que acepte requests por GET. Modifique el codigo del cliente para enviar los datos por GET"
   ]
  },
  {
   "cell_type": "code",
   "execution_count": 17,
   "metadata": {},
   "outputs": [],
   "source": [
    "# DEFINA SU CLIENTE GET AQUI:\n",
    "\n",
    "# CODIGO PARA EL SERVICIO WEB:\n",
    "\"\"\"\n",
    "from flask import Flask\n",
    "from flask_restful import Api, Resource, reqparse\n",
    "import pickle\n",
    "import numpy as np\n",
    "import cv2, base64\n",
    "\n",
    "# variables Flask\n",
    "app = Flask(__name__)\n",
    "api = Api(app)\n",
    "\n",
    "\n",
    "# se carga el modelo de Logistic Regression del Notebook #3\n",
    "pkl_filename = \"ModeloLR.pkl\"\n",
    "with open(pkl_filename, 'rb') as file:\n",
    "    #model = pickle.load(file)\n",
    "    unpickler = pickle.Unpickler(file)\n",
    "    model = unpickler.load()\n",
    "\n",
    "class Predict(Resource):\n",
    "\n",
    "    @staticmethod\n",
    "    def get():\n",
    "        #return 200\n",
    "        \n",
    "        parser = reqparse.RequestParser()\n",
    "        parser.add_argument('image')\n",
    "        # request para el modelo\n",
    "        args = parser.parse_args() \n",
    "        im_bytes = base64.b64decode(args['image'])\n",
    "        im_arr = np.frombuffer(im_bytes, dtype=np.uint8)  # im_arr is one-dim Numpy array\n",
    "        img = cv2.imdecode(im_arr, flags=cv2.IMREAD_GRAYSCALE)\n",
    "        img = img.reshape(-1)\n",
    "        # prediccion\n",
    "        out = {'Prediccion': int(model.predict(img.reshape(1, -1)))}\n",
    "        return out,200\n",
    "\n",
    "\n",
    "        \n",
    "api.add_resource(Predict, '/predict')\n",
    "\n",
    "if __name__ == '__main__':\n",
    "    app.run(debug=True, port='1080')\n",
    "\n",
    "\"\"\""
   ]
  },
  {
   "cell_type": "markdown",
   "metadata": {},
   "source": [
    "### EJERCICIO 2:\n",
    "\n",
    "* Entrene un modelo de machine learning con MNIST y salve su modelo en un archivo pickle. [https://scikit-learn.org/stable/auto_examples/linear_model/plot_sparse_logistic_regression_mnist.html]\n",
    "* Modifique el server.py para que agregue la ruta /predict-number y que sea capaz de predecir si una imagen pertecene a un numero del 0 al 9\n",
    "* Va a enviar la imagen desde el cliente (este notebook) como un base64 hacia el server.py\n",
    "* el server.py va recibir la imagen la reconstruye en una imagen nuevamente y la manda al modelo de ML\n",
    "* la imagen que ingresa al server.py debe salvarla en un folder (images)"
   ]
  },
  {
   "cell_type": "code",
   "execution_count": 96,
   "metadata": {},
   "outputs": [
    {
     "name": "stdout",
     "output_type": "stream",
     "text": [
      "Model saved with name:  ModeloLR.pkl\n"
     ]
    }
   ],
   "source": [
    "import pickle\n",
    "from sklearn.datasets import fetch_openml\n",
    "from sklearn.linear_model import LogisticRegression\n",
    "from sklearn.model_selection import train_test_split\n",
    "from sklearn.utils import check_random_state\n",
    "\n",
    "#print(__doc__)\n",
    "\n",
    "# Author: Arthur Mensch <arthur.mensch@m4x.org>\n",
    "# License: BSD 3 clause\n",
    "# obtained from: https://scikit-learn.org/stable/auto_examples/linear_model/plot_sparse_logistic_regression_mnist.html\n",
    "\n",
    "train_samples = 5000\n",
    "\n",
    "# Load data from https://www.openml.org/d/554\n",
    "X, y = fetch_openml('mnist_784', version=1, return_X_y=True, as_frame=False)\n",
    "#print(X[0].shape)\n",
    "\n",
    "random_state = check_random_state(0)\n",
    "permutation = random_state.permutation(X.shape[0])\n",
    "X = X[permutation]\n",
    "y = y[permutation]\n",
    "X = X.reshape((X.shape[0], -1))\n",
    "\n",
    "X_train, X_test, y_train, y_test = train_test_split(\n",
    "    X, y, train_size=train_samples, test_size=10000)\n",
    "\n",
    "#scaler = StandardScaler()\n",
    "#X_train = scaler.fit_transform(X_train)\n",
    "\n",
    "#print(X[0])\n",
    "\n",
    "# Turn up tolerance for faster convergence\n",
    "clf = LogisticRegression(\n",
    "    C=50. / train_samples, penalty='l1', solver='saga', tol=0.1\n",
    ")\n",
    "clf.fit(X_train, y_train)\n",
    "\n",
    "\n",
    "pkl_filename = \"ModeloLR.pkl\"\n",
    "with open(pkl_filename, 'wb') as file:\n",
    "    pickle.dump(clf, file)\n",
    "    \n",
    "print('Model saved with name: ',pkl_filename) \n"
   ]
  },
  {
   "cell_type": "code",
   "execution_count": 150,
   "metadata": {},
   "outputs": [
    {
     "name": "stdout",
     "output_type": "stream",
     "text": [
      "{'Prediccion': 2}\n"
     ]
    }
   ],
   "source": [
    "import cv2, base64, requests\n",
    "import matplotlib.pyplot as plt\n",
    "img = cv2.imread('number5.png',0)\n",
    "img= cv2.resize(img,(28,28))\n",
    "#print(img.shape)\n",
    "#plt.imshow(img,cmap='gray')\n",
    "retval, buffer = cv2.imencode('.png',img)\n",
    "img_to_txt = base64.b64encode(buffer)\n",
    "#print(img_to_txt)\n",
    "\n",
    "url = 'http://127.0.0.1:1080/predict'\n",
    "body = {'image':img_to_txt}\n",
    "response = requests.get(url, data=body)\n",
    "print(response.json())\n",
    "#print(response)\n",
    "\n"
   ]
  },
  {
   "cell_type": "code",
   "execution_count": null,
   "metadata": {},
   "outputs": [],
   "source": []
  },
  {
   "cell_type": "code",
   "execution_count": null,
   "metadata": {},
   "outputs": [],
   "source": []
  }
 ],
 "metadata": {
  "kernelspec": {
   "display_name": "Python 3",
   "language": "python",
   "name": "python3"
  },
  "language_info": {
   "codemirror_mode": {
    "name": "ipython",
    "version": 3
   },
   "file_extension": ".py",
   "mimetype": "text/x-python",
   "name": "python",
   "nbconvert_exporter": "python",
   "pygments_lexer": "ipython3",
   "version": "3.7.4"
  }
 },
 "nbformat": 4,
 "nbformat_minor": 4
}
